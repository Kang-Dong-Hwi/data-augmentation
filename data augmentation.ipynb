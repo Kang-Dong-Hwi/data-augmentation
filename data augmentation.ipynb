{
 "cells": [
  {
   "cell_type": "code",
   "execution_count": 1,
   "metadata": {},
   "outputs": [],
   "source": [
    "\n",
    "import os\n",
    "import math\n",
    "import torch\n",
    "import torchaudio\n",
    "import librosa\n",
    "import librosa.display\n",
    "import numpy as np\n",
    "import matplotlib.pyplot as plt\n"
   ]
  },
  {
   "cell_type": "code",
   "execution_count": null,
   "metadata": {},
   "outputs": [],
   "source": [
    "\n",
    "# GPU 할당 변경하기\n",
    "GPU_NUM = 4  # 원하는 GPU 번호 입력\n",
    "device = torch.device(f'cuda:{GPU_NUM}' if torch.cuda.is_available() else 'cpu')\n",
    "\n",
    "torch.cuda.set_device(device) # change allocation of current GPU\n",
    "print ('Current cuda device ', torch.cuda.current_device()) # check\n"
   ]
  },
  {
   "cell_type": "code",
   "execution_count": 4,
   "metadata": {},
   "outputs": [],
   "source": [
    "file_path = '../data/'\n",
    "file = 'audio_000200.wav'\n",
    "\n",
    "NFFT = 512\n",
    "Freq = 16000\n"
   ]
  },
  {
   "cell_type": "markdown",
   "metadata": {},
   "source": [
    "### zero padding 부분 제거"
   ]
  },
  {
   "cell_type": "code",
   "execution_count": 10,
   "metadata": {},
   "outputs": [],
   "source": [
    "#zero padding 시작되는 col 찾는 함수\n",
    "def binary_search( stft ):\n",
    "    min, max = 65, stft.shape[1]-2\n",
    "    \n",
    "    while True:\n",
    "        mid = (min+max) // 2\n",
    "        if   column(stft, mid) is 'true': return mid\n",
    "        elif column(stft, mid) is 'up'  : min = mid+1\n",
    "        elif column(stft, mid) is 'down': max = mid-1\n",
    "    \n",
    "\n",
    "    \n",
    "    \n",
    "def column( stft, col ):\n",
    "    s = stft[:, col:col+2]\n",
    "    \n",
    "    target1 = set( s[:,0] )\n",
    "    target2 = set( s[:,1] )\n",
    "    \n",
    "    if   target1 != {0j} and target2 == {0j}:   return 'true' #target = mid\n",
    "    elif target1 != {0j} and target2 != {0j}:   return 'up'   #target > mid\n",
    "    elif target1 == {0j} and target2 == {0j}:   return 'down' #target < mid\n",
    "    \n",
    "    \n",
    "    \n",
    "    \n",
    "# torchaudio.transforms.timestretch의 input size에 맞춰주는 함수\n",
    "def timestretch_input(real, imag):\n",
    "    res = []\n",
    "    \n",
    "    for idx in range(real.shape[0]):\n",
    "        tmp = [real[idx,:],  imag[idx,:]]\n",
    "        tmp = np.asarray(tmp)\n",
    "        tmp = np.transpose(tmp)\n",
    "        res.append(tmp)\n",
    "    \n",
    "    res = torch.as_tensor(res)\n",
    "    return res\n",
    "    "
   ]
  },
  {
   "cell_type": "code",
   "execution_count": 11,
   "metadata": {},
   "outputs": [],
   "source": [
    "\n",
    "x_data = ['S_left.npy', 'S_right.npy', 'S_left_phase.npy','S_right_phase.npy']\n",
    "y_data = np.load( file_path+ 'angle.npy')\n",
    "\n",
    "\n",
    "S_left  = np.load( file_path + x_data[0] )\n",
    "S_right = np.load( file_path + x_data[1] )\n",
    "S_left_phase  = np.load( file_path + x_data[2] )\n",
    "S_right_phase = np.load( file_path + x_data[3] )\n"
   ]
  },
  {
   "cell_type": "markdown",
   "metadata": {},
   "source": [
    " S_left, S_right\n",
    " S_left_phase, S_right_phase \n",
    " --> STFT_left, STFT_right\n",
    " \n",
    " mag, phase에서 stft로 변환 후 timestretch input size에 맞춤"
   ]
  },
  {
   "cell_type": "code",
   "execution_count": 12,
   "metadata": {},
   "outputs": [
    {
     "name": "stdout",
     "output_type": "stream",
     "text": [
      "done...\n"
     ]
    }
   ],
   "source": [
    "\n",
    "STFT_left  = []\n",
    "STFT_right = []\n",
    "columns = []\n",
    "\n",
    "\n",
    "for idx in range(y_data.shape[0]):\n",
    "    \n",
    "    # zero padding 된 부분 제거\n",
    "    col = binary_search(S_left[:,:,idx]) + 1\n",
    "    columns.append(col)\n",
    "    \n",
    "\n",
    "    \n",
    "  #mag, phase\n",
    "    \"\"\"R\"\"\"\n",
    "    radius_left  = S_left[:,:col,idx] \n",
    "    radius_right = S_right[:,:col,idx]\n",
    "    \n",
    "    \n",
    "    \"\"\"theta\"\"\"\n",
    "    theta_left  = S_left_phase[:,:col,idx]\n",
    "    theta_right = S_right_phase[:,:col,idx]\n",
    "    \n",
    "    cos_left = np.real( theta_left )\n",
    "    sin_left = np.imag( theta_left )\n",
    "    \n",
    "    cos_right = np.real( theta_right )\n",
    "    sin_right = np.imag( theta_right )\n",
    "    \n",
    "    \n",
    "    \n",
    "  #stft\n",
    "    \"\"\" R*theta \"\"\"\n",
    "    stft_left_real = radius_left  * cos_left  \n",
    "    stft_left_imag = radius_left  * sin_left\n",
    "    \n",
    "    stft_right_real = radius_right * cos_right\n",
    "    stft_right_imag = radius_right * sin_right\n",
    "    \n",
    "    \n",
    "    \n",
    "    left  = timestretch_input(stft_left_real, stft_left_imag)\n",
    "    right = timestretch_input(stft_right_real, stft_right_imag)\n",
    "\n",
    "    \n",
    "    STFT_left.append(left.to('cuda:4'))\n",
    "    STFT_right.append(right.to('cuda:4'))\n",
    "\n",
    "    \n",
    "print('done...')\n"
   ]
  },
  {
   "cell_type": "markdown",
   "metadata": {},
   "source": [
    "### time stretch "
   ]
  },
  {
   "cell_type": "code",
   "execution_count": null,
   "metadata": {},
   "outputs": [],
   "source": [
    "# 1. zero padding 된 부분 제거\n",
    "# 2. shape -> (257, cols)\n",
    "# 3. fixed_rate = cols / 382 \n",
    "\n",
    "# 4. output size -> (257, 382 +remain)\n",
    "# 5. remain 제거 -> (257, 382)"
   ]
  },
  {
   "cell_type": "code",
   "execution_count": 15,
   "metadata": {},
   "outputs": [
    {
     "name": "stdout",
     "output_type": "stream",
     "text": [
      "done...\n"
     ]
    }
   ],
   "source": [
    "#time stretch\n",
    "\n",
    "import torch.nn as nn\n",
    "import torchaudio.transforms as transforms\n",
    "\n",
    "\n",
    "\n",
    "strchd_left  = torch.empty([1,257,382]).to('cuda:4')\n",
    "strchd_right = torch.empty([1,257,382]).to('cuda:4')\n",
    "strchd_left_phase  = torch.empty([1,257,382]).to('cuda:4')\n",
    "strchd_right_phase = torch.empty([1,257,382]).to('cuda:4')\n",
    "\n",
    "\n",
    "\n",
    "\n",
    "for idx in range(y_data.shape[0]):\n",
    "    \n",
    "   \"\"\"1/fixed_rate 만큼 시간축 늘어나게 됨 \"\"\"\n",
    "    fixed_rate = math.ceil( columns[idx] / 382 * 100 * 0.95) / 100\n",
    "    \n",
    "    # timestretch\n",
    "    aug1 = nn.Sequential( \n",
    "        transforms.TimeStretch( hop_length=250, n_freq=(NFFT//2)-1,\n",
    "                                fixed_rate=fixed_rate ) )\n",
    "    \n",
    "    aug1 = aug1.cuda()\n",
    "    out_left  = aug1(STFT_left[idx])\n",
    "    out_right = aug1(STFT_right[idx])\n",
    "    \n",
    "    \n",
    "    \n",
    "    \"\"\"stft --> mag, phase\"\"\"\n",
    "    m_left,  ph_left  = torchaudio.functional.magphase(out_left)\n",
    "    m_right, ph_right = torchaudio.functional.magphase(out_right)\n",
    "    \n",
    "    ml = m_left.reshape(1,257,m_left.shape[1])\n",
    "    pl = ph_left.reshape(1,257,m_left.shape[1])\n",
    "    mr = m_right.reshape(1,257,m_left.shape[1])\n",
    "    pr = ph_right.reshape(1,257,m_left.shape[1])\n",
    "    \n",
    "    \n",
    "    \n",
    "    #(1000, 257, 382)\n",
    "    strchd_left  = torch.cat( [strchd_left,  ml[:,:,:382]], dim=0 )\n",
    "    strchd_right = torch.cat( [strchd_right, mr[:,:,:382]], dim=0 )\n",
    "    strchd_left_phase  = torch.cat( [strchd_left_phase,  pl[:,:,:382]], dim=0 )\n",
    "    strchd_right_phase = torch.cat( [strchd_right_phase, pr[:,:,:382]], dim=0 )\n",
    "\n",
    "    \n",
    "print('done...')"
   ]
  },
  {
   "cell_type": "code",
   "execution_count": 17,
   "metadata": {
    "scrolled": true
   },
   "outputs": [],
   "source": [
    "torch.save( strchd_left[1:],  '../data/strchd_left.pt' )\n",
    "torch.save( strchd_right[1:], '../data/strchd_right.pt' )\n",
    "torch.save( strchd_left_phase[1:],  '../data/strchd_left_phase.pt' )\n",
    "torch.save( strchd_right_phase[1:], '../data/strchd_right_phase.pt' )"
   ]
  },
  {
   "cell_type": "code",
   "execution_count": null,
   "metadata": {},
   "outputs": [],
   "source": []
  },
  {
   "cell_type": "code",
   "execution_count": null,
   "metadata": {},
   "outputs": [],
   "source": []
  }
 ],
 "metadata": {
  "kernelspec": {
   "display_name": "Python 3",
   "language": "python",
   "name": "python3"
  },
  "language_info": {
   "codemirror_mode": {
    "name": "ipython",
    "version": 3
   },
   "file_extension": ".py",
   "mimetype": "text/x-python",
   "name": "python",
   "nbconvert_exporter": "python",
   "pygments_lexer": "ipython3",
   "version": "3.7.7"
  }
 },
 "nbformat": 4,
 "nbformat_minor": 2
}
